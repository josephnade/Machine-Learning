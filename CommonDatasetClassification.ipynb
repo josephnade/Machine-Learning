{
 "cells": [
  {
   "cell_type": "code",
   "execution_count": 26,
   "id": "abd05ccf",
   "metadata": {},
   "outputs": [],
   "source": [
    "#DERS 2.2 -) KÜTÜPHANELERİN YÜKLENMESİ\n",
    "import pandas as pd\n",
    "from sklearn.decomposition import PCA\n",
    "from sklearn.metrics import  accuracy_score\n",
    "from sklearn.svm import SVC\n",
    "from sklearn.model_selection import train_test_split\n",
    "from sklearn.preprocessing import StandardScaler\n",
    "from sklearn.preprocessing import OneHotEncoder\n"
   ]
  },
  {
   "cell_type": "markdown",
   "id": "ddeb0eca",
   "metadata": {},
   "source": [
    "### Reading Data"
   ]
  },
  {
   "cell_type": "code",
   "execution_count": 27,
   "id": "37b6f39f",
   "metadata": {},
   "outputs": [
    {
     "name": "stdout",
     "output_type": "stream",
     "text": [
      "Veri setinin şekli (2056, 3206)\n",
      "veri seti değişken tipleri: user_id       int64\n",
      "touch_type    int64\n",
      "touch          bool\n",
      "finger         bool\n",
      "palm           bool\n",
      "              ...  \n",
      "3196          int64\n",
      "3197          int64\n",
      "3198          int64\n",
      "3199          int64\n",
      "3200          int64\n",
      "Length: 3206, dtype: object\n",
      "veri setinin ilk 10 satırı\n",
      "   user_id  touch_type  touch  finger   palm   fist   1   2   3   4  ...  \\\n",
      "0        0           0  False   False  False  False   4   0  12 -16  ...   \n",
      "1        0           0  False   False  False  False -52  -2  17   1  ...   \n",
      "2        0           0  False   False  False  False   2   7  14  -5  ...   \n",
      "3        0           0  False   False  False  False   0   6  10   8  ...   \n",
      "4        0           0  False   False  False  False   2   5   3   0  ...   \n",
      "5        0           0  False   False  False  False   1  10  14  -8  ...   \n",
      "6        0           0  False   False  False  False -51  -1   8  -1  ...   \n",
      "7        0           0  False   False  False  False   6   5  14  -8  ...   \n",
      "8        0           0  False   False  False  False   1   0  16   6  ...   \n",
      "9        0           0  False   False  False  False   5   6  21  -7  ...   \n",
      "\n",
      "   3191  3192  3193  3194  3195  3196  3197  3198  3199  3200  \n",
      "0   -51     4     1     3   -42     2     3    61     2    -1  \n",
      "1   -36    -1    49     6   -58     8    49    63    47     6  \n",
      "2     1    55    54   -51   -26    55    56     9    55    52  \n",
      "3     1     2    28     2     1     9    55    53    -7    51  \n",
      "4   -25    51    -6   -45    -4    61    48    60    46     5  \n",
      "5   -52    45    10   -50   -51    65     2     2    44     0  \n",
      "6   -52    46    53   -51   -52    54    55    54    55    52  \n",
      "7   -52    46    51   -52   -52    54    55    54    55    53  \n",
      "8   -17    -7     0    11     0     0    45     2     1    50  \n",
      "9     1    19     1     2     0     1     2     0     1    -2  \n",
      "\n",
      "[10 rows x 3206 columns]\n",
      "veri setinin istatistiki verileri\n",
      "           user_id   touch_type            1            2            3  \\\n",
      "count  2056.000000  2056.000000  2056.000000  2056.000000  2056.000000   \n",
      "mean     14.144455     2.208658     6.383268    -0.736868    -1.372568   \n",
      "std       8.776936     3.059943    37.765997     7.140939     8.932638   \n",
      "min       0.000000     0.000000   -62.000000   -22.000000   -23.000000   \n",
      "25%       7.000000     0.000000    -2.000000    -6.000000    -8.000000   \n",
      "50%      14.000000     0.000000     3.000000    -1.000000    -1.000000   \n",
      "75%      22.000000     4.000000    53.000000     5.000000     4.000000   \n",
      "max      29.000000     9.000000    70.000000    21.000000    21.000000   \n",
      "\n",
      "                 4            5            6            7            8  ...  \\\n",
      "count  2056.000000  2056.000000  2056.000000  2056.000000  2056.000000  ...   \n",
      "mean     -1.951848    -0.771401    -0.479086     0.716926     0.893482  ...   \n",
      "std      10.529769    12.400623     9.899473    13.253678    14.909682  ...   \n",
      "min     -27.000000   -29.000000   -28.000000   -31.000000   -34.000000  ...   \n",
      "25%      -9.000000    -9.000000    -7.000000    -7.000000    -9.000000  ...   \n",
      "50%      -1.000000    -1.000000     0.000000     0.000000     0.000000  ...   \n",
      "75%       6.000000     9.000000     7.000000    11.000000    13.000000  ...   \n",
      "max      23.000000    41.000000    22.000000    70.000000    46.000000  ...   \n",
      "\n",
      "              3191         3192         3193         3194         3195  \\\n",
      "count  2056.000000  2056.000000  2056.000000  2056.000000  2056.000000   \n",
      "mean      0.269942     9.160506     7.529183    -1.431420     4.392023   \n",
      "std      31.318870    31.483043    35.528682    36.167375    37.094317   \n",
      "min     -56.000000   -58.000000   -61.000000   -66.000000   -62.000000   \n",
      "25%     -21.000000    -9.000000    -4.000000   -37.000000   -27.000000   \n",
      "50%       0.000000     6.000000     5.000000     1.000000     4.000000   \n",
      "75%      25.000000    34.000000    32.000000    13.000000    27.000000   \n",
      "max      72.000000   100.000000   104.000000    92.000000    82.000000   \n",
      "\n",
      "              3196         3197         3198         3199         3200  \n",
      "count  2056.000000  2056.000000  2056.000000  2056.000000  2056.000000  \n",
      "mean     10.382782     6.484922     3.776265     3.038911    16.335603  \n",
      "std      36.713209    37.415322    39.689446    36.621301    33.422914  \n",
      "min     -61.000000   -62.000000   -69.000000   -65.000000   -56.000000  \n",
      "25%      -5.000000    -7.000000   -10.000000   -16.000000    -1.000000  \n",
      "50%       5.000000     5.000000     3.000000     1.000000     7.000000  \n",
      "75%      49.000000    45.000000    22.000000    30.000000    51.000000  \n",
      "max     107.000000   103.000000   101.000000   103.000000    99.000000  \n",
      "\n",
      "[8 rows x 3202 columns]\n"
     ]
    }
   ],
   "source": [
    "data = pd.read_csv('CommonDataset/common.csv')\n",
    "\n",
    "# veri setinin tanıtılması\n",
    "print(\"Veri setinin şekli\",data.shape)\n",
    "print(\"veri seti değişken tipleri:\",data.dtypes)\n",
    "print(\"veri setinin ilk 10 satırı\")\n",
    "print(data.head(10))\n",
    "print(\"veri setinin istatistiki verileri\")\n",
    "description=data.describe()\n",
    "print(description)"
   ]
  },
  {
   "cell_type": "markdown",
   "id": "3c7bccd0",
   "metadata": {},
   "source": [
    "### Preprocessing"
   ]
  },
  {
   "cell_type": "code",
   "execution_count": 28,
   "id": "e0525f0c",
   "metadata": {},
   "outputs": [],
   "source": [
    "data_measurements = data.iloc[:,6:].values\n",
    "data_finger = data.iloc[:,3:4].astype(int).values # BAĞIMLI DEĞİŞKENLER\n",
    "data_palm = data.iloc[:,4:5].astype(int).values # BAĞIMLI DEĞİŞKENLER\n",
    "data_fist = data.iloc[:,5:6].astype(int).values # BAĞIMLI DEĞİŞKENLER\n",
    "data_isTouch = data.iloc[:,2:3].astype(int).values\n",
    "data_user = data.iloc[:,0:1].values\n",
    "data_touch = data.iloc[:,1:2].values\n",
    "data_isTouch = data.iloc[:,2:3].values\n"
   ]
  },
  {
   "cell_type": "markdown",
   "id": "c3fd84af",
   "metadata": {},
   "source": [
    "### Standart Scalar"
   ]
  },
  {
   "cell_type": "code",
   "execution_count": 29,
   "id": "e80cfee7",
   "metadata": {},
   "outputs": [],
   "source": [
    "\n",
    "sc = StandardScaler()\n",
    "\n",
    "data_sc_measurements = sc.fit_transform(data_measurements) # BAĞIMSIZ DEĞİŞKENLER\n"
   ]
  },
  {
   "cell_type": "markdown",
   "id": "c8f08cd5",
   "metadata": {},
   "source": [
    "### PCA"
   ]
  },
  {
   "cell_type": "code",
   "execution_count": 30,
   "id": "84c8a4c6",
   "metadata": {},
   "outputs": [],
   "source": [
    "pca = PCA(n_components=1000, svd_solver='auto')\n",
    "data_sc_measurements = pca.fit_transform(data_measurements) #BAĞIMSIZ DEĞİŞKENLER  \n",
    "varience_pca = pca.explained_variance_ratio_"
   ]
  },
  {
   "cell_type": "markdown",
   "id": "957f3c48",
   "metadata": {},
   "source": [
    "### Train and Test Splitting"
   ]
  },
  {
   "cell_type": "code",
   "execution_count": 31,
   "id": "5f323f2b",
   "metadata": {},
   "outputs": [],
   "source": [
    "bagımsız_user_train, bagımsız_user_test, bagımlı_user_train, bagımlı_user_test = train_test_split(data_sc_measurements, data_user, test_size= 0.25, random_state=37)\n",
    "\n",
    "bagımsız_touch_train, bagımsız_touch_test, bagımlı_touch_train, bagımlı_touch_test = train_test_split(data_sc_measurements, data_touch, test_size= 0.25, random_state=37)\n",
    "\n",
    "bagımsız_isTouch_train, bagımsız_isTouch_test, bagımlı_isTouch_train, bagımlı_isTouch_test = train_test_split(data_sc_measurements, data_isTouch, test_size= 0.25, random_state=37)\n",
    "\n",
    "bagımsız_finger_train, bagımsız_finger_test, bagımlı_finger_train, bagımlı_finger_test = train_test_split(data_sc_measurements, data_finger, test_size= 0.25, random_state=37)\n",
    "\n",
    "bagımsız_palm_train, bagımsız_palm_test, bagımlı_palm_train, bagımlı_palm_test = train_test_split(data_sc_measurements, data_palm, test_size= 0.25, random_state=37)\n",
    "\n",
    "bagımsız_fist_train, bagımsız_fist_test, bagımlı_fist_train, bagımlı_fist_test = train_test_split(data_sc_measurements, data_fist, test_size= 0.25, random_state=37)"
   ]
  },
  {
   "cell_type": "markdown",
   "id": "8ae27b53",
   "metadata": {},
   "source": [
    "### DTC"
   ]
  },
  {
   "cell_type": "code",
   "execution_count": 32,
   "id": "572adc61",
   "metadata": {},
   "outputs": [
    {
     "name": "stdout",
     "output_type": "stream",
     "text": [
      "User Accuracy score: 0.9649805447470817\n",
      "Touch Accuracy score: 0.6361867704280155\n",
      "Finger Accuracy score: 0.8249027237354085\n",
      "Palm Accuracy score: 0.9513618677042801\n",
      "Fist Accuracy score: 0.9163424124513618\n"
     ]
    }
   ],
   "source": [
    "from sklearn.tree import DecisionTreeClassifier\n",
    "dtc_user = DecisionTreeClassifier(criterion='gini', max_depth=1000, random_state=37)\n",
    "dtc_user.fit(bagımsız_user_train, bagımlı_user_train)\n",
    "pred_dtc_user = dtc_user.predict(bagımsız_user_test)\n",
    "print(f'User Accuracy score: {accuracy_score(bagımlı_user_test, pred_dtc_user)}')\n",
    "\n",
    "\n",
    "dtc_touch = DecisionTreeClassifier(criterion='gini',max_depth=1000, random_state=37)\n",
    "dtc_touch.fit(bagımsız_touch_train, bagımlı_touch_train.ravel())\n",
    "pred_dtc_touch = dtc_touch.predict(bagımsız_touch_test)\n",
    "print(f'Touch Accuracy score: {accuracy_score(bagımlı_touch_test, pred_dtc_touch)}')\n",
    "\n",
    "dtc_finger = DecisionTreeClassifier(criterion='gini', random_state=37)\n",
    "dtc_finger.fit(bagımsız_finger_train, bagımlı_finger_train.ravel())\n",
    "pred_dtc_finger = dtc_finger.predict(bagımsız_finger_test)\n",
    "print(f'Finger Accuracy score: {accuracy_score(bagımlı_finger_test, pred_dtc_finger)}')\n",
    "\n",
    "dtc_palm = DecisionTreeClassifier(criterion='gini', random_state=37)\n",
    "dtc_palm.fit(bagımsız_palm_train, bagımlı_palm_train.ravel())\n",
    "pred_dtc_palm = dtc_palm.predict(bagımsız_palm_test)\n",
    "print(f'Palm Accuracy score: {accuracy_score(bagımlı_palm_test, pred_dtc_palm)}')\n",
    "\n",
    "dtc_fist = DecisionTreeClassifier(criterion='gini', random_state=37)\n",
    "dtc_fist.fit(bagımsız_fist_train, bagımlı_fist_train.ravel())\n",
    "pred_dtc_fist = dtc_fist.predict(bagımsız_fist_test)\n",
    "print(f'Fist Accuracy score: {accuracy_score(bagımlı_fist_test, pred_dtc_fist)}')"
   ]
  },
  {
   "cell_type": "markdown",
   "id": "879045ad",
   "metadata": {},
   "source": [
    "### KNN"
   ]
  },
  {
   "cell_type": "code",
   "execution_count": 33,
   "id": "eec96b31",
   "metadata": {},
   "outputs": [
    {
     "name": "stdout",
     "output_type": "stream",
     "text": [
      "User Accuracy score: 1.0\n",
      "Touch Accuracy score: 0.632295719844358\n",
      "Finger Accuracy score: 0.8599221789883269\n",
      "Palm Accuracy score: 0.9669260700389105\n",
      "Fist Accuracy score: 0.9280155642023347\n"
     ]
    }
   ],
   "source": [
    "from sklearn.neighbors import KNeighborsClassifier\n",
    "\n",
    "knn_user = KNeighborsClassifier(n_neighbors=5, metric = 'minkowski')\n",
    "knn_user.fit(bagımsız_user_train, bagımlı_user_train.ravel())\n",
    "pred_knn_user = knn_user.predict(bagımsız_user_test)\n",
    "print(f'User Accuracy score: {accuracy_score(bagımlı_user_test.ravel(), pred_knn_user)}')\n",
    "\n",
    "knn_touch = KNeighborsClassifier(n_neighbors=5, metric = 'minkowski')\n",
    "knn_touch.fit(bagımsız_touch_train, bagımlı_touch_train.ravel())\n",
    "pred_knn_touch = knn_touch.predict(bagımsız_touch_test)\n",
    "print(f'Touch Accuracy score: {accuracy_score(bagımlı_touch_test, pred_knn_touch)}')\n",
    "\n",
    "knn_finger = KNeighborsClassifier(n_neighbors=5, metric = 'minkowski')\n",
    "knn_finger.fit(bagımsız_finger_train, bagımlı_finger_train.ravel())\n",
    "pred_knn_finger = knn_finger.predict(bagımsız_finger_test)\n",
    "print(f'Finger Accuracy score: {accuracy_score(bagımlı_finger_test, pred_knn_finger)}')\n",
    "\n",
    "knn_palm = KNeighborsClassifier(n_neighbors=5, metric = 'minkowski')\n",
    "knn_palm.fit(bagımsız_palm_train, bagımlı_palm_train.ravel())\n",
    "pred_knn_palm = knn_palm.predict(bagımsız_palm_test)\n",
    "print(f'Palm Accuracy score: {accuracy_score(bagımlı_palm_test, pred_knn_palm)}')\n",
    "\n",
    "knn_fist = KNeighborsClassifier(n_neighbors=5, metric = 'minkowski')\n",
    "knn_fist.fit(bagımsız_fist_train, bagımlı_fist_train.ravel())\n",
    "pred_knn_fist = knn_fist.predict(bagımsız_fist_test)\n",
    "print(f'Fist Accuracy score: {accuracy_score(bagımlı_fist_test, pred_knn_fist)}')"
   ]
  },
  {
   "cell_type": "markdown",
   "id": "6e90a4c8",
   "metadata": {},
   "source": [
    "### RFC"
   ]
  },
  {
   "cell_type": "code",
   "execution_count": 34,
   "id": "e1dd5080",
   "metadata": {},
   "outputs": [
    {
     "name": "stdout",
     "output_type": "stream",
     "text": [
      "User Accuracy score: 0.9922178988326849\n",
      "Touch Accuracy score: 0.5544747081712063\n",
      "finger Accuracy score: 0.8482490272373541\n",
      "palm Accuracy score: 0.8871595330739299\n",
      "palm Accuracy score: 0.8560311284046692\n"
     ]
    }
   ],
   "source": [
    "from sklearn.ensemble import RandomForestClassifier\n",
    "rfc_user = RandomForestClassifier(n_estimators=15, criterion='entropy')\n",
    "rfc_user.fit(bagımsız_user_train, bagımlı_user_train.ravel())\n",
    "pred_rfc_user = rfc_user.predict(bagımsız_user_test)\n",
    "print(f'User Accuracy score: {accuracy_score(bagımlı_user_test, pred_rfc_user)}')\n",
    "\n",
    "\n",
    "rfc_touch = RandomForestClassifier(n_estimators=15, criterion='entropy')\n",
    "rfc_touch.fit(bagımsız_touch_train, bagımlı_touch_train.ravel())\n",
    "pred_rfc_touch = rfc_touch.predict(bagımsız_touch_test)\n",
    "print(f'Touch Accuracy score: {accuracy_score(bagımlı_touch_test, pred_rfc_touch)}')\n",
    "\n",
    "rfc_finger = RandomForestClassifier(n_estimators=15, criterion='entropy')\n",
    "rfc_finger.fit(bagımsız_finger_train, bagımlı_finger_train.ravel())\n",
    "pred_rfc_finger = rfc_finger.predict(bagımsız_finger_test)\n",
    "print(f'finger Accuracy score: {accuracy_score(bagımlı_finger_test, pred_rfc_finger)}')\n",
    "\n",
    "rfc_palm = RandomForestClassifier(n_estimators=15, criterion='entropy')\n",
    "rfc_palm.fit(bagımsız_palm_train, bagımlı_palm_train.ravel())\n",
    "pred_rfc_palm = rfc_palm.predict(bagımsız_palm_test)\n",
    "print(f'palm Accuracy score: {accuracy_score(bagımlı_palm_test, pred_rfc_palm)}')\n",
    "\n",
    "rfc_fist = RandomForestClassifier(n_estimators=15, criterion='entropy')\n",
    "rfc_fist.fit(bagımsız_fist_train, bagımlı_fist_train.ravel())\n",
    "pred_rfc_fist = rfc_fist.predict(bagımsız_fist_test)\n",
    "print(f'palm Accuracy score: {accuracy_score(bagımlı_fist_test, pred_rfc_fist)}')"
   ]
  },
  {
   "cell_type": "markdown",
   "id": "108c176a",
   "metadata": {},
   "source": [
    "### LOGR"
   ]
  },
  {
   "cell_type": "code",
   "execution_count": 35,
   "id": "8ed26ca2",
   "metadata": {},
   "outputs": [
    {
     "name": "stdout",
     "output_type": "stream",
     "text": [
      "User Accuracy score: 1.0\n"
     ]
    },
    {
     "name": "stderr",
     "output_type": "stream",
     "text": [
      "C:\\Users\\mbatu\\anaconda3\\lib\\site-packages\\sklearn\\linear_model\\_logistic.py:763: ConvergenceWarning: lbfgs failed to converge (status=1):\n",
      "STOP: TOTAL NO. of ITERATIONS REACHED LIMIT.\n",
      "\n",
      "Increase the number of iterations (max_iter) or scale the data as shown in:\n",
      "    https://scikit-learn.org/stable/modules/preprocessing.html\n",
      "Please also refer to the documentation for alternative solver options:\n",
      "    https://scikit-learn.org/stable/modules/linear_model.html#logistic-regression\n",
      "  n_iter_i = _check_optimize_result(\n",
      "C:\\Users\\mbatu\\anaconda3\\lib\\site-packages\\sklearn\\linear_model\\_logistic.py:763: ConvergenceWarning: lbfgs failed to converge (status=1):\n",
      "STOP: TOTAL NO. of ITERATIONS REACHED LIMIT.\n",
      "\n",
      "Increase the number of iterations (max_iter) or scale the data as shown in:\n",
      "    https://scikit-learn.org/stable/modules/preprocessing.html\n",
      "Please also refer to the documentation for alternative solver options:\n",
      "    https://scikit-learn.org/stable/modules/linear_model.html#logistic-regression\n",
      "  n_iter_i = _check_optimize_result(\n"
     ]
    },
    {
     "name": "stdout",
     "output_type": "stream",
     "text": [
      "Touch Accuracy score: 0.6595330739299611\n",
      "finger Accuracy score: 0.3949416342412451\n",
      "Palm Accuracy score: 0.6595330739299611\n",
      "fist Accuracy score: 0.5058365758754864\n"
     ]
    },
    {
     "name": "stderr",
     "output_type": "stream",
     "text": [
      "C:\\Users\\mbatu\\anaconda3\\lib\\site-packages\\sklearn\\linear_model\\_logistic.py:763: ConvergenceWarning: lbfgs failed to converge (status=1):\n",
      "STOP: TOTAL NO. of ITERATIONS REACHED LIMIT.\n",
      "\n",
      "Increase the number of iterations (max_iter) or scale the data as shown in:\n",
      "    https://scikit-learn.org/stable/modules/preprocessing.html\n",
      "Please also refer to the documentation for alternative solver options:\n",
      "    https://scikit-learn.org/stable/modules/linear_model.html#logistic-regression\n",
      "  n_iter_i = _check_optimize_result(\n",
      "C:\\Users\\mbatu\\anaconda3\\lib\\site-packages\\sklearn\\linear_model\\_logistic.py:763: ConvergenceWarning: lbfgs failed to converge (status=1):\n",
      "STOP: TOTAL NO. of ITERATIONS REACHED LIMIT.\n",
      "\n",
      "Increase the number of iterations (max_iter) or scale the data as shown in:\n",
      "    https://scikit-learn.org/stable/modules/preprocessing.html\n",
      "Please also refer to the documentation for alternative solver options:\n",
      "    https://scikit-learn.org/stable/modules/linear_model.html#logistic-regression\n",
      "  n_iter_i = _check_optimize_result(\n"
     ]
    }
   ],
   "source": [
    "from sklearn.linear_model import LogisticRegression\n",
    "\n",
    "logr_user = LogisticRegression(random_state=37)\n",
    "logr_user.fit(bagımsız_user_train, bagımlı_user_train.ravel())\n",
    "pred_logr_user = logr_user.predict(bagımsız_user_test)\n",
    "print(f'User Accuracy score: {accuracy_score(bagımlı_user_test, pred_logr_user)}')\n",
    "\n",
    "\n",
    "logr_touch = LogisticRegression(random_state=37)\n",
    "logr_touch.fit(bagımsız_touch_train, bagımlı_touch_train.ravel())\n",
    "pred_logr_touch = logr_touch.predict(bagımsız_touch_test)\n",
    "print(f'Touch Accuracy score: {accuracy_score(bagımlı_touch_test, pred_logr_touch)}')\n",
    "\n",
    "logr_finger = LogisticRegression(random_state=37)\n",
    "logr_finger.fit(bagımsız_finger_train, bagımlı_finger_train.ravel())\n",
    "pred_logr_finger = logr_finger.predict(bagımsız_finger_test)\n",
    "print(f'finger Accuracy score: {accuracy_score(bagımlı_finger_test, pred_logr_finger)}')\n",
    "\n",
    "logr_palm = LogisticRegression(random_state=37)\n",
    "logr_palm.fit(bagımsız_palm_train, bagımlı_touch_train.ravel())\n",
    "pred_logr_touch = logr_touch.predict(bagımsız_touch_test)\n",
    "print(f'Palm Accuracy score: {accuracy_score(bagımlı_touch_test, pred_logr_touch)}')\n",
    "\n",
    "logr_fist = LogisticRegression(random_state=37)\n",
    "logr_fist.fit(bagımsız_fist_train, bagımlı_fist_train.ravel())\n",
    "pred_logr_fist = logr_fist.predict(bagımsız_fist_test)\n",
    "print(f'fist Accuracy score: {accuracy_score(bagımlı_fist_test, pred_logr_fist)}')"
   ]
  },
  {
   "cell_type": "markdown",
   "id": "260dea63",
   "metadata": {},
   "source": [
    "### SVC"
   ]
  },
  {
   "cell_type": "code",
   "execution_count": 36,
   "id": "296a2b8e",
   "metadata": {},
   "outputs": [
    {
     "name": "stdout",
     "output_type": "stream",
     "text": [
      "user Accuracy score: 1.0\n",
      "touch Accuracy score: 0.6673151750972762\n",
      "finger Accuracy score: 0.8482490272373541\n",
      "palm Accuracy score: 0.9747081712062257\n",
      "fist Accuracy score: 0.9105058365758755\n"
     ]
    }
   ],
   "source": [
    "from sklearn.svm import SVC\n",
    "\n",
    "svc_user = SVC(kernel='rbf')\n",
    "svc_user.fit(bagımsız_user_train, bagımlı_user_train.ravel())\n",
    "pred_svc_user = svc_user.predict(bagımsız_user_test)\n",
    "print(f'user Accuracy score: {accuracy_score(bagımlı_user_test, pred_svc_user)}')\n",
    "\n",
    "svc_touch = SVC(kernel='rbf')\n",
    "svc_touch.fit(bagımsız_touch_train, bagımlı_touch_train.ravel())\n",
    "pred_svc_touch = svc_touch.predict(bagımsız_touch_test)\n",
    "print(f'touch Accuracy score: {accuracy_score(bagımlı_touch_test, pred_svc_touch)}')\n",
    "\n",
    "svc_finger = SVC(kernel='rbf')\n",
    "svc_finger.fit(bagımsız_finger_train, bagımlı_finger_train.ravel())\n",
    "pred_svc_finger = svc_finger.predict(bagımsız_finger_test)\n",
    "print(f'finger Accuracy score: {accuracy_score(bagımlı_finger_test, pred_svc_finger)}')\n",
    "\n",
    "svc_palm = SVC(kernel='rbf')\n",
    "svc_palm.fit(bagımsız_palm_train, bagımlı_palm_train.ravel())\n",
    "pred_svc_palm = svc_palm.predict(bagımsız_palm_test)\n",
    "print(f'palm Accuracy score: {accuracy_score(bagımlı_palm_test, pred_svc_palm)}')\n",
    "\n",
    "svc_fist = SVC(kernel='rbf')\n",
    "svc_fist.fit(bagımsız_fist_train, bagımlı_fist_train.ravel())\n",
    "pred_svc_fist = svc_fist.predict(bagımsız_fist_test)\n",
    "print(f'fist Accuracy score: {accuracy_score(bagımlı_fist_test, pred_svc_fist)}')"
   ]
  },
  {
   "cell_type": "markdown",
   "id": "a9404d5b",
   "metadata": {},
   "source": [
    "### GNB"
   ]
  },
  {
   "cell_type": "code",
   "execution_count": 37,
   "id": "79306ab8",
   "metadata": {},
   "outputs": [
    {
     "name": "stdout",
     "output_type": "stream",
     "text": [
      "***GNB***\n",
      "user Accuracy score: 1.0\n",
      "touch Accuracy score: 0.6284046692607004\n",
      "finger Accuracy score: 0.8365758754863813\n",
      "palm Accuracy score: 0.9280155642023347\n",
      "fist Accuracy score: 0.8735408560311284\n"
     ]
    }
   ],
   "source": [
    "print('***GNB***')\n",
    "from sklearn.naive_bayes import GaussianNB\n",
    "\n",
    "gnb_user = GaussianNB()\n",
    "gnb_user.fit(bagımsız_user_train, bagımlı_user_train.ravel())\n",
    "pred_gnb_user = gnb_user.predict(bagımsız_user_test)\n",
    "\n",
    "print(f'user Accuracy score: {accuracy_score(bagımlı_user_test, pred_gnb_user)}')\n",
    "\n",
    "gnb_touch = GaussianNB()\n",
    "gnb_touch.fit(bagımsız_touch_train, bagımlı_touch_train.ravel())\n",
    "pred_gnb_touch = gnb_touch.predict(bagımsız_touch_test)\n",
    "print(f'touch Accuracy score: {accuracy_score(bagımlı_touch_test, pred_gnb_touch)}')\n",
    "\n",
    "\n",
    "gnb_finger = GaussianNB()\n",
    "gnb_finger.fit(bagımsız_finger_train, bagımlı_finger_train.ravel())\n",
    "pred_gnb_finger = gnb_finger.predict(bagımsız_finger_test)\n",
    "print(f'finger Accuracy score: {accuracy_score(bagımlı_finger_test, pred_gnb_finger)}')\n",
    "\n",
    "gnb_palm = GaussianNB()\n",
    "gnb_palm.fit(bagımsız_palm_train, bagımlı_palm_train.ravel())\n",
    "pred_gnb_palm = gnb_palm.predict(bagımsız_palm_test)\n",
    "print(f'palm Accuracy score: {accuracy_score(bagımlı_palm_test, pred_gnb_palm)}')\n",
    "\n",
    "gnb_fist = GaussianNB()\n",
    "gnb_fist.fit(bagımsız_fist_train, bagımlı_fist_train.ravel())\n",
    "pred_gnb_fist = gnb_fist.predict(bagımsız_fist_test)\n",
    "print(f'fist Accuracy score: {accuracy_score(bagımlı_fist_test, pred_gnb_fist)}')"
   ]
  }
 ],
 "metadata": {
  "kernelspec": {
   "display_name": "Python 3 (ipykernel)",
   "language": "python",
   "name": "python3"
  },
  "language_info": {
   "codemirror_mode": {
    "name": "ipython",
    "version": 3
   },
   "file_extension": ".py",
   "mimetype": "text/x-python",
   "name": "python",
   "nbconvert_exporter": "python",
   "pygments_lexer": "ipython3",
   "version": "3.9.7"
  }
 },
 "nbformat": 4,
 "nbformat_minor": 5
}
