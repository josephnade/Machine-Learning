{
 "cells": [
  {
   "cell_type": "markdown",
   "id": "5ef628e9",
   "metadata": {},
   "source": [
    "# Yusuf AKIN - 171805020\n",
    "# Semih AKIN - 171805009\n",
    "# Mehmet VARAN - 181805009\n",
    "# Mehmet Baturalp CAYLAK - 171805009"
   ]
  },
  {
   "cell_type": "markdown",
   "id": "41de6ffb",
   "metadata": {},
   "source": [
    "### libraries"
   ]
  },
  {
   "cell_type": "code",
   "execution_count": 25,
   "id": "5200c6cd",
   "metadata": {},
   "outputs": [],
   "source": [
    "import numpy as np\n",
    "import matplotlib.pyplot as plt\n",
    "import pandas as pd\n",
    "import seaborn as sns\n",
    "from sklearn.metrics import  accuracy_score\n",
    "from sklearn.impute import SimpleImputer\n",
    "from sklearn.model_selection import train_test_split"
   ]
  },
  {
   "cell_type": "markdown",
   "id": "9dc32584",
   "metadata": {},
   "source": [
    "### Reading Data"
   ]
  },
  {
   "cell_type": "code",
   "execution_count": 26,
   "id": "f809defb",
   "metadata": {},
   "outputs": [],
   "source": [
    "drug = pd.concat([pd.read_table('UniqueDataSet\\drugsComTrain_raw.tsv')\n",
    "                  .drop([\"Unnamed: 0\",\"review\",\"date\"],axis = 1), pd.read_table('UniqueDataSet\\drugsComTest_raw.tsv')\n",
    "                  .drop([\"Unnamed: 0\",\"review\",\"date\"],axis = 1)])\n",
    "\n",
    "# VERİ ÖN İŞLEME\n",
    "\n",
    "#Nan veriler ile baş etme\n",
    "imputer = SimpleImputer(missing_values = np.nan, strategy='constant')\n",
    "drug_condition = drug.iloc[:,1:2] #bağımlı veriler\n",
    "drug_condition = imputer.fit_transform(drug_condition) #bağımlı veriler\n",
    "\n",
    "\n",
    "drug_name = drug.iloc[:,0:1]\n"
   ]
  },
  {
   "cell_type": "code",
   "execution_count": 27,
   "id": "630c189a",
   "metadata": {},
   "outputs": [
    {
     "name": "stdout",
     "output_type": "stream",
     "text": [
      "Veri setinin şekli (215063, 4)\n",
      "veri seti değişken tipleri: drugName        object\n",
      "condition       object\n",
      "rating         float64\n",
      "usefulCount      int64\n",
      "dtype: object\n",
      "veri setinin ilk 10 satırı\n",
      "                             drugName                     condition  rating  \\\n",
      "0                           Valsartan  Left Ventricular Dysfunction     9.0   \n",
      "1                          Guanfacine                          ADHD     8.0   \n",
      "2                              Lybrel                 Birth Control     5.0   \n",
      "3                          Ortho Evra                 Birth Control     8.0   \n",
      "4            Buprenorphine / naloxone             Opiate Dependence     9.0   \n",
      "5                              Cialis  Benign Prostatic Hyperplasia     2.0   \n",
      "6                      Levonorgestrel       Emergency Contraception     1.0   \n",
      "7                        Aripiprazole               Bipolar Disorde    10.0   \n",
      "8                              Keppra                      Epilepsy     1.0   \n",
      "9  Ethinyl estradiol / levonorgestrel                 Birth Control     8.0   \n",
      "\n",
      "   usefulCount  \n",
      "0           27  \n",
      "1          192  \n",
      "2           17  \n",
      "3           10  \n",
      "4           37  \n",
      "5           43  \n",
      "6            5  \n",
      "7           32  \n",
      "8           11  \n",
      "9            1  \n",
      "veri setinin istatistiki verileri\n",
      "              rating    usefulCount\n",
      "count  215063.000000  215063.000000\n",
      "mean        6.990008      28.001004\n",
      "std         3.275554      36.346069\n",
      "min         1.000000       0.000000\n",
      "25%         5.000000       6.000000\n",
      "50%         8.000000      16.000000\n",
      "75%        10.000000      36.000000\n",
      "max        10.000000    1291.000000\n"
     ]
    },
    {
     "data": {
      "text/plain": [
       "<AxesSubplot:>"
      ]
     },
     "execution_count": 27,
     "metadata": {},
     "output_type": "execute_result"
    },
    {
     "data": {
      "image/png": "[encoded data removed]",
      "text/plain": [
       "<Figure size 1152x648 with 2 Axes>"
      ]
     },
     "metadata": {
      "needs_background": "light"
     },
     "output_type": "display_data"
    },
    {
     "data": {
      "image/png": "[encoded data removed]",
      "text/plain": [
       "<Figure size 432x288 with 2 Axes>"
      ]
     },
     "metadata": {
      "needs_background": "light"
     },
     "output_type": "display_data"
    }
   ],
   "source": [
    "# veri setinin tanıtılması\n",
    "print(\"Veri setinin şekli\",drug.shape)\n",
    "print(\"veri seti değişken tipleri:\",drug.dtypes)\n",
    "print(\"veri setinin ilk 10 satırı\")\n",
    "print(drug.head(10))\n",
    "print(\"veri setinin istatistiki verileri\")\n",
    "description=drug.describe()\n",
    "print(description)\n",
    "# veri seti içindeki değişkenlerin dağılımlarının çizdirilmesi\n",
    "drug.hist(bins=10,figsize=(16,9),grid=False);\n",
    "corr = drug.corr(method='pearson')\n",
    "plt.figure()\n",
    "sns.heatmap(corr, annot=True)"
   ]
  },
  {
   "cell_type": "markdown",
   "id": "b903593c",
   "metadata": {},
   "source": [
    "### Preprocessing"
   ]
  },
  {
   "cell_type": "code",
   "execution_count": null,
   "id": "78fc5c12",
   "metadata": {},
   "outputs": [],
   "source": [
    "from sklearn import preprocessing\n",
    "\n",
    "le= preprocessing.LabelEncoder()\n",
    "\n",
    "drug_name['drugName'] = le.fit_transform(drug.iloc[:,0])\n",
    "drug_others = pd.concat([drug_name, drug.iloc[:,2:4]], axis = 1)\n",
    "drug_condition = le.fit_transform(drug_condition)\n"
   ]
  },
  {
   "cell_type": "markdown",
   "id": "9bb84e95",
   "metadata": {},
   "source": [
    "### Standart Scalar"
   ]
  },
  {
   "cell_type": "code",
   "execution_count": null,
   "id": "e51705ea",
   "metadata": {},
   "outputs": [],
   "source": [
    "from sklearn.preprocessing import StandardScaler\n",
    "\n",
    "x_train, x_test, y_train, y_test = train_test_split(drug_others, drug_condition, test_size= 0.25, random_state=37)\n",
    "sc = StandardScaler()\n",
    "X_train = sc.fit_transform(x_train)\n",
    "X_test = sc.transform(x_test)\n"
   ]
  },
  {
   "cell_type": "markdown",
   "id": "d93d3b95",
   "metadata": {},
   "source": [
    "### KNN"
   ]
  },
  {
   "cell_type": "code",
   "execution_count": null,
   "id": "b520b025",
   "metadata": {},
   "outputs": [],
   "source": [
    "from sklearn.neighbors import KNeighborsClassifier\n",
    "\n",
    "knn = KNeighborsClassifier(n_neighbors=1, metric = 'minkowski')\n",
    "knn.fit(X_train, y_train)\n",
    "\n",
    "pred_knn = knn.predict(X_test)\n",
    "\n",
    "print('***KNN***')\n",
    "print(f'Accuracy score = {accuracy_score(y_test,pred_knn)}')\n"
   ]
  },
  {
   "cell_type": "markdown",
   "id": "80040db6",
   "metadata": {},
   "source": [
    "### Decision Tree"
   ]
  },
  {
   "cell_type": "code",
   "execution_count": null,
   "id": "128b6039",
   "metadata": {},
   "outputs": [],
   "source": [
    "from sklearn.tree import DecisionTreeClassifier\n",
    "\n",
    "dtc = DecisionTreeClassifier(criterion='entropy')\n",
    "dtc.fit(X_train, y_train)\n",
    "pred_dtc = dtc.predict(X_test)\n",
    "\n",
    "print('***DTC***')\n",
    "print(f'Accuracy score = {accuracy_score(y_test,pred_dtc)}')\n",
    "\n"
   ]
  },
  {
   "cell_type": "markdown",
   "id": "7816a7a8",
   "metadata": {},
   "source": [
    "### RFC\n",
    "### We can't use it cause there is to much data to compute so this method is not avaible for this"
   ]
  },
  {
   "cell_type": "markdown",
   "id": "d513a997",
   "metadata": {},
   "source": [
    "from sklearn.ensemble import RandomForestClassifier\n",
    "rfc = RandomForestClassifier(n_estimators=100, criterion='entropy')\n",
    "rfc.fit(X_train, y_train)\n",
    "\n",
    "pred_rfc = rfc.predict(X_test)\n",
    "print('***RFC***')\n",
    "print(f'Accuracy score = {accuracy_score(y_test,pred_rfc)}')\n"
   ]
  },
  {
   "cell_type": "markdown",
   "id": "b74da244",
   "metadata": {},
   "source": [
    "### Logistic Regression\n",
    "### We can't use it cause there is to much data to compute so this method is not avaible for this"
   ]
  },
  {
   "cell_type": "markdown",
   "id": "1d217eef",
   "metadata": {},
   "source": [
    "from sklearn.linear_model import LogisticRegression\n",
    "\n",
    "logr = LogisticRegression()\n",
    "logr.fit(X_train, y_train)\n",
    "pred_logr = logr.predict(X_test)\n",
    "print(f'Accuracy score = {accuracy_score(y_test,pred_logr)}')\n",
    "\n",
    "\n"
   ]
  },
  {
   "cell_type": "markdown",
   "id": "665bb557",
   "metadata": {},
   "source": [
    "### SVC\n",
    "### We can't use it cause there are too much data to compute so this method is not avaible for this"
   ]
  },
  {
   "cell_type": "markdown",
   "id": "83edeeac",
   "metadata": {},
   "source": [
    "from sklearn.svm import SVC\n",
    "\n",
    "svc = SVC(kernel='rbf')\n",
    "svc.fit(X_train, y_train)\n",
    "\n",
    "print('***SVC***')\n",
    "pred_svc = svc.predict(X_test)\n",
    "print(f'Accuracy score = {accuracy_score(y_test,pred_svc)}')"
   ]
  },
  {
   "cell_type": "code",
   "execution_count": null,
   "id": "2980d79d",
   "metadata": {},
   "outputs": [],
   "source": []
  },
  {
   "cell_type": "code",
   "execution_count": null,
   "id": "81f15059",
   "metadata": {},
   "outputs": [],
   "source": []
  }
 ],
 "metadata": {
  "kernelspec": {
   "display_name": "Python 3 (ipykernel)",
   "language": "python",
   "name": "python3"
  },
  "language_info": {
   "codemirror_mode": {
    "name": "ipython",
    "version": 3
   },
   "file_extension": ".py",
   "mimetype": "text/x-python",
   "name": "python",
   "nbconvert_exporter": "python",
   "pygments_lexer": "ipython3",
   "version": "3.9.7"
  }
 },
 "nbformat": 4,
 "nbformat_minor": 5
}
